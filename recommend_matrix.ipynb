{
 "cells": [
  {
   "cell_type": "code",
   "execution_count": 147,
   "metadata": {
    "collapsed": true
   },
   "outputs": [],
   "source": [
    "import pandas as pd\n",
    "import numpy as np\n",
    "import math\n",
    "import operator"
   ]
  },
  {
   "cell_type": "code",
   "execution_count": 4,
   "metadata": {
    "collapsed": true
   },
   "outputs": [],
   "source": [
    "data = pd.read_excel(\"order_data.xlsx\")"
   ]
  },
  {
   "cell_type": "code",
   "execution_count": 5,
   "metadata": {
    "collapsed": true
   },
   "outputs": [],
   "source": [
    "#将空由0替换\n",
    "data = data.fillna(0)"
   ]
  },
  {
   "cell_type": "code",
   "execution_count": 6,
   "metadata": {
    "collapsed": true
   },
   "outputs": [],
   "source": [
    "data = data[(data.product_id > 0)]\n",
    "data[\"product_id\"] = data[\"product_id\"].apply(lambda x: int(x))\n"
   ]
  },
  {
   "cell_type": "code",
   "execution_count": 9,
   "metadata": {
    "collapsed": true
   },
   "outputs": [],
   "source": [
    "#过滤一个用户至少买过两个商品的记录\n",
    "user_data = data.groupby(\"user_id\").size()\n",
    "user_data = user_data[user_data > 1]\n",
    "data = data[data.user_id.isin(user_data.keys())]\n",
    "user_list = data.values.tolist()\n"
   ]
  },
  {
   "cell_type": "code",
   "execution_count": 10,
   "metadata": {},
   "outputs": [
    {
     "data": {
      "text/plain": [
       "76121"
      ]
     },
     "execution_count": 10,
     "metadata": {},
     "output_type": "execute_result"
    }
   ],
   "source": [
    "len(data)"
   ]
  },
  {
   "cell_type": "code",
   "execution_count": 11,
   "metadata": {
    "collapsed": true
   },
   "outputs": [],
   "source": [
    "all_product_id = list(set(data[\"product_id\"].values.tolist()))"
   ]
  },
  {
   "cell_type": "code",
   "execution_count": 12,
   "metadata": {},
   "outputs": [
    {
     "data": {
      "text/plain": [
       "19462"
      ]
     },
     "execution_count": 12,
     "metadata": {},
     "output_type": "execute_result"
    }
   ],
   "source": [
    "len(all_product_id)"
   ]
  },
  {
   "cell_type": "code",
   "execution_count": 78,
   "metadata": {
    "collapsed": true
   },
   "outputs": [],
   "source": [
    "product_to_index = {}\n",
    "index_to_product = {}\n",
    "for index,value in enumerate(all_product_id):\n",
    "    product_to_index[value] = index\n",
    "    index_to_product[index] = value\n"
   ]
  },
  {
   "cell_type": "code",
   "execution_count": 79,
   "metadata": {},
   "outputs": [
    {
     "data": {
      "text/plain": [
       "100499457"
      ]
     },
     "execution_count": 79,
     "metadata": {},
     "output_type": "execute_result"
    }
   ],
   "source": [
    "index_to_product[0]"
   ]
  },
  {
   "cell_type": "code",
   "execution_count": 23,
   "metadata": {
    "collapsed": true
   },
   "outputs": [],
   "source": [
    "#第一步创建用户-物品的倒排索引\n",
    "user_item_index = {}\n",
    "for user_id in user_data.keys():\n",
    "    product_ids = data[data.user_id == user_id][\"product_id\"].values.tolist()\n",
    "    for index,value in enumerate(product_ids):\n",
    "        product_ids[index] = product_to_index[value]\n",
    "    user_item_index[user_id] = product_ids\n",
    "    \n",
    "\n",
    "\n"
   ]
  },
  {
   "cell_type": "code",
   "execution_count": 33,
   "metadata": {
    "collapsed": true
   },
   "outputs": [],
   "source": [
    "#第二步创建共现矩阵\n",
    "\n",
    "product_length = len(product_to_index)\n",
    "matrix_c = np.zeros((product_length,product_length))\n",
    "\n",
    "#循环用户-商品倒排索引 对于同一个用户购买的任意的两个商品 在共现矩阵中都要加1\n",
    "for user_id in user_item_index:\n",
    "    product_ids = user_item_index[user_id]\n",
    "    for i,value in enumerate(product_ids):\n",
    "        if(i < len(product_ids) - 1):\n",
    "            list_other = product_ids[(i+1):len(product_ids)]\n",
    "            for second_product_index in list_other:\n",
    "                matrix_c[value][second_product_index] += 1\n",
    "                matrix_c[second_product_index][value] += 1\n",
    "\n"
   ]
  },
  {
   "cell_type": "code",
   "execution_count": 44,
   "metadata": {
    "collapsed": true
   },
   "outputs": [],
   "source": [
    "matrix_c[0]\n",
    "\n"
   ]
  },
  {
   "cell_type": "code",
   "execution_count": 64,
   "metadata": {
    "collapsed": true
   },
   "outputs": [],
   "source": [
    "#第三步根据算法得到商品的相似矩阵 算法：cij/sqrt(|N(i)|*|N(j)|)\n",
    "\n",
    "product_index_count_dic = {}\n",
    "\n",
    "product_group = data.groupby(\"product_id\").size()\n",
    "for product_id in product_group.keys():\n",
    "    product_index_count_dic[product_to_index[product_id]] = product_group[product_id]\n",
    "    \n",
    "matrix_w = np.zeros((product_length,product_length))\n",
    "\n",
    "#共现矩阵大于0的下标list\n",
    "index_i_list,index_j_list = np.where(matrix_c > 0)\n",
    "for index,value in enumerate(index_i_list):\n",
    "    i = value\n",
    "    j = index_j_list[index]\n",
    "    score = matrix_c[i][j]/math.sqrt(product_index_count_dic[i] * product_index_count_dic[j])\n",
    "    matrix_w[i][j] = score\n",
    "    matrix_w[j][i] = score\n"
   ]
  },
  {
   "cell_type": "code",
   "execution_count": 73,
   "metadata": {
    "collapsed": true
   },
   "outputs": [],
   "source": [
    "a = np.zeros(product_length)\n",
    "a[1] = 3\n",
    "a[2] = 4\n",
    "a[5] = 6\n",
    "a = (a - np.min(a))/(np.max(a) - np.min(a))"
   ]
  },
  {
   "cell_type": "code",
   "execution_count": 74,
   "metadata": {},
   "outputs": [
    {
     "data": {
      "text/plain": [
       "array([ 0.        ,  0.5       ,  0.66666667, ...,  0.        ,\n",
       "        0.        ,  0.        ])"
      ]
     },
     "execution_count": 74,
     "metadata": {},
     "output_type": "execute_result"
    }
   ],
   "source": [
    "a"
   ]
  },
  {
   "cell_type": "code",
   "execution_count": 75,
   "metadata": {
    "collapsed": true
   },
   "outputs": [],
   "source": [
    "def normalize(value):\n",
    "    value = (value - np.min(value))/(np.max(value) - np.min(value))\n",
    "    return value"
   ]
  },
  {
   "cell_type": "code",
   "execution_count": 76,
   "metadata": {
    "collapsed": true
   },
   "outputs": [],
   "source": [
    "#第四步创建用户的喜好商品矩阵：并进行归一化\n",
    "user_like_item_dic = {}\n",
    "for user_id in user_data.keys():\n",
    "    user_like_item = data[data.user_id == user_id]\n",
    "    user_item_like_matrix = np.zeros(product_length)\n",
    "    for i in range(len(user_like_item)):\n",
    "        index = product_to_index[user_like_item.iloc[i].product_id]\n",
    "        user_item_like_matrix[index] = user_like_item.iloc[i].orders_num\n",
    "    user_like_item_dic[user_id] = normalize(user_item_like_matrix)\n",
    "    \n"
   ]
  },
  {
   "cell_type": "code",
   "execution_count": 121,
   "metadata": {},
   "outputs": [
    {
     "data": {
      "text/plain": [
       "array([ 0.,  0.,  0., ...,  0.,  0.,  0.])"
      ]
     },
     "execution_count": 121,
     "metadata": {},
     "output_type": "execute_result"
    }
   ],
   "source": [
    "user_like_item_dic[27]"
   ]
  },
  {
   "cell_type": "code",
   "execution_count": 112,
   "metadata": {
    "collapsed": true
   },
   "outputs": [],
   "source": [
    "#获得最相似的k个商品\n",
    "def getMostSimilar(matrix_w,index,k):\n",
    "    c_list = matrix_w[index]\n",
    "    similar_item = pd.DataFrame({\"value\":c_list})\n",
    "    similar_item = similar_item.sort_values(by=\"value\",ascending=False).iloc[0:k]\n",
    "    similar_item_dic = {}\n",
    "    for i in range(len(similar_item)):\n",
    "        similar_item_dic[similar_item.iloc[i].name] = similar_item.iloc[i].value\n",
    "    return similar_item_dic"
   ]
  },
  {
   "cell_type": "code",
   "execution_count": 113,
   "metadata": {},
   "outputs": [
    {
     "data": {
      "text/plain": [
       "{12969: 0.0,\n",
       " 12976: 0.0,\n",
       " 19454: 0.24253562503633297,\n",
       " 19455: 0.33333333333333331,\n",
       " 19456: 0.3779644730092272,\n",
       " 19457: 0.5,\n",
       " 19458: 0.57735026918962584,\n",
       " 19459: 0.57735026918962584,\n",
       " 19460: 1.0,\n",
       " 19461: 1.0}"
      ]
     },
     "execution_count": 113,
     "metadata": {},
     "output_type": "execute_result"
    }
   ],
   "source": [
    "getMostSimilar(matrix_w,0,10)"
   ]
  },
  {
   "cell_type": "code",
   "execution_count": 114,
   "metadata": {},
   "outputs": [
    {
     "name": "stdout",
     "output_type": "stream",
     "text": [
      "(array([ 862, 6749, 6907, 7157], dtype=int64),)\n"
     ]
    }
   ],
   "source": [
    "like_list = np.where(user_like_item_dic[753664] > 0)\n",
    "print(like_list)"
   ]
  },
  {
   "cell_type": "code",
   "execution_count": 148,
   "metadata": {
    "collapsed": true
   },
   "outputs": [],
   "source": [
    "def reommendItem(user_id,matrix_w,user_like_item_dic,k):\n",
    "    recommend_dic = {}\n",
    "    user_like_list = user_like_item_dic[user_id]\n",
    "    user_like_item_index_list = np.where(user_like_list > 0)\n",
    "    user_like_item_index_list = user_like_item_index_list[0]\n",
    "    for product_index in user_like_item_index_list:\n",
    "        like_score = user_like_list[product_index]\n",
    "        most_similar_item = getMostSimilar(matrix_w,product_index,k)\n",
    "        for key in most_similar_item.keys():\n",
    "            if key in user_like_item_index_list:\n",
    "                continue\n",
    "            #最终得分是用户对商品的喜欢程度 * 商品的相似程度\n",
    "            score = like_score * most_similar_item[key]\n",
    "            if key in recommend_dic.keys():\n",
    "                score += recommend_dic[key]\n",
    "            recommend_dic[key] = score\n",
    "    #返回得分最高的k个商品\n",
    "    sorted_x = sorted(recommend_dic.items(), key=operator.itemgetter(1))\n",
    "    sorted_x.reverse()\n",
    "    return sorted_x[0:k]"
   ]
  },
  {
   "cell_type": "code",
   "execution_count": 151,
   "metadata": {},
   "outputs": [
    {
     "data": {
      "text/plain": [
       "[(7348, 0.35355339059327373),\n",
       " (6851, 0.25),\n",
       " (9369, 0.25),\n",
       " (15451, 0.20952908873087345),\n",
       " (12060, 0.20412414523193154),\n",
       " (10971, 0.15811388300841897),\n",
       " (15736, 0.15617376188860607),\n",
       " (14435, 0.15617376188860607),\n",
       " (9440, 0.15617376188860607),\n",
       " (12248, 0.15617376188860607)]"
      ]
     },
     "execution_count": 151,
     "metadata": {},
     "output_type": "execute_result"
    }
   ],
   "source": [
    "\n",
    "recommend_dic = reommendItem(27,matrix_w,user_like_item_dic,10)\n",
    "recommend_dic"
   ]
  },
  {
   "cell_type": "code",
   "execution_count": 164,
   "metadata": {
    "collapsed": true
   },
   "outputs": [],
   "source": [
    "#第五步给用户推荐商品\n",
    "\n",
    "def getAllUserRecommend():\n",
    "    user_recommend = {}\n",
    "    for user_id in user_like_item_dic.keys():\n",
    "        print(user_id)\n",
    "        recommend_dic = reommendItem(user_id,matrix_w,user_like_item_dic,10)\n",
    "        value = \"\"\n",
    "        for key in recommend_dic:\n",
    "            index = key[0]\n",
    "            if value == \"\":\n",
    "                value += str(index_to_product[index])\n",
    "            else:\n",
    "                value += \",\" + str(index_to_product[index])\n",
    "        user_recommend[user_id] = value\n",
    "    return user_recommend\n",
    "\n",
    "\n",
    "    \n"
   ]
  }
 ],
 "metadata": {
  "kernelspec": {
   "display_name": "Python 3",
   "language": "python",
   "name": "python3"
  },
  "language_info": {
   "codemirror_mode": {
    "name": "ipython",
    "version": 3
   },
   "file_extension": ".py",
   "mimetype": "text/x-python",
   "name": "python",
   "nbconvert_exporter": "python",
   "pygments_lexer": "ipython3",
   "version": "3.5.3"
  }
 },
 "nbformat": 4,
 "nbformat_minor": 2
}
